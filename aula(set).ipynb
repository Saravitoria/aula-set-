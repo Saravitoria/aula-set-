{
  "nbformat": 4,
  "nbformat_minor": 0,
  "metadata": {
    "colab": {
      "provenance": []
    },
    "kernelspec": {
      "name": "python3",
      "display_name": "Python 3"
    },
    "language_info": {
      "name": "python"
    }
  },
  "cells": [
    {
      "cell_type": "code",
      "execution_count": 1,
      "metadata": {
        "colab": {
          "base_uri": "https://localhost:8080/"
        },
        "id": "RA_e2b_orrYS",
        "outputId": "d35d0cbc-6baa-4fef-a502-87a6975ad083"
      },
      "outputs": [
        {
          "output_type": "stream",
          "name": "stdout",
          "text": [
            "{'f', 'a', 'd', 'g', 'b', 'c'}\n"
          ]
        }
      ],
      "source": [
        "letras = {'a', 'b', 'c', 'a', 'd', 'c', 'a', 'f', 'g'}\n",
        "print(letras)"
      ]
    },
    {
      "cell_type": "code",
      "source": [
        "frutas = ['uva', 'maca', 'tangerina', 'uva',]\n",
        "print(f'aqui frutas estao em uma lista: {frutas} ')\n",
        "frutas = set(frutas)\n",
        "print(f'agora frutas estao em uma lista: {frutas} ')"
      ],
      "metadata": {
        "colab": {
          "base_uri": "https://localhost:8080/"
        },
        "id": "Nz_TLfD6t53D",
        "outputId": "43969ca7-d7a3-4129-cc72-db72ba3171fb"
      },
      "execution_count": 2,
      "outputs": [
        {
          "output_type": "stream",
          "name": "stdout",
          "text": [
            "aqui frutas estao em uma lista: ['uva', 'maca', 'tangerina', 'uva'] \n",
            "agora frutas estao em uma lista: {'uva', 'maca', 'tangerina'} \n"
          ]
        }
      ]
    },
    {
      "cell_type": "code",
      "source": [
        "frutas = {'uva', 'maca', 'tangerina', 'uva'}\n",
        "frutas.add('manga')\n",
        "print(frutas)\n",
        "frutas.remove('uva')\n",
        "print(frutas) \n",
        "frutas.discard('melancia')\n",
        "print(frutas)\n"
      ],
      "metadata": {
        "colab": {
          "base_uri": "https://localhost:8080/"
        },
        "id": "Ahw-NGIfwLMJ",
        "outputId": "a50b61f5-8e3d-4320-8d1d-eaa92da3a873"
      },
      "execution_count": 6,
      "outputs": [
        {
          "output_type": "stream",
          "name": "stdout",
          "text": [
            "{'uva', 'maca', 'manga', 'tangerina'}\n",
            "{'maca', 'manga', 'tangerina'}\n",
            "{'maca', 'manga', 'tangerina'}\n",
            "set()\n"
          ]
        }
      ]
    },
    {
      "cell_type": "code",
      "source": [
        "frutas = {'uva', 'maca', 'tangerina', 'uva'}\n",
        "verduras = {'cebola', 'pimentao'}\n",
        "vegetais = frutas | verduras\n",
        "print(vegetais)"
      ],
      "metadata": {
        "colab": {
          "base_uri": "https://localhost:8080/"
        },
        "id": "sT2IH7r1x8Q4",
        "outputId": "3cd89afe-cd19-4496-9abf-1cbd3752a054"
      },
      "execution_count": 8,
      "outputs": [
        {
          "output_type": "stream",
          "name": "stdout",
          "text": [
            "{'cebola', 'maca', 'pimentao', 'tangerina', 'uva'}\n"
          ]
        }
      ]
    },
    {
      "cell_type": "code",
      "source": [
        "web = {'html', 'javascript', 'python', 'css'}\n",
        "mobile = {'fluter', 'python', 'kotlin', 'javascript'}\n",
        "ambas = web & mobile\n",
        "print(ambas)\n",
        "diferenca = web.difference(mobile)\n",
        "print(diferenca)\n",
        "diferenca = mobile.difference(web)\n",
        "print(diferenca)"
      ],
      "metadata": {
        "colab": {
          "base_uri": "https://localhost:8080/"
        },
        "id": "JHTHExa51Wgd",
        "outputId": "8b4d1d27-16f1-48d2-89c2-cebbf41d65b9"
      },
      "execution_count": 12,
      "outputs": [
        {
          "output_type": "stream",
          "name": "stdout",
          "text": [
            "{'python', 'javascript'}\n",
            "{'css', 'html'}\n",
            "{'fluter', 'kotlin'}\n"
          ]
        }
      ]
    },
    {
      "cell_type": "code",
      "source": [
        "web = {'html', 'javascript', 'python', 'css'}\n",
        "mobile = {'fluter', 'python', 'kotlin', 'javascript'}\n",
        "diferenca1 = web - mobile\n",
        "diferenca2 = mobile - web \n",
        "print(diferenca1, '-' ,diferenca2)"
      ],
      "metadata": {
        "colab": {
          "base_uri": "https://localhost:8080/"
        },
        "id": "LivIY1pO3qiD",
        "outputId": "503f1e62-5375-478c-ba65-bcce71086327"
      },
      "execution_count": 16,
      "outputs": [
        {
          "output_type": "stream",
          "name": "stdout",
          "text": [
            "{'css', 'html'} - {'fluter', 'kotlin'}\n"
          ]
        }
      ]
    },
    {
      "cell_type": "code",
      "source": [
        "web = {'javascript', 'python'}\n",
        "mobile = { 'fluter', 'python', 'kotlin', 'javascript'}\n",
        "x = web.isdisjoint(mobile)\n",
        "print(x)"
      ],
      "metadata": {
        "colab": {
          "base_uri": "https://localhost:8080/"
        },
        "id": "iYHMoymW44T5",
        "outputId": "577fb7a8-8ff6-4fbb-8111-7c80b8fc82c3"
      },
      "execution_count": 20,
      "outputs": [
        {
          "output_type": "stream",
          "name": "stdout",
          "text": [
            "False\n"
          ]
        }
      ]
    },
    {
      "cell_type": "code",
      "source": [
        "web = {'javascript', 'python'}\n",
        "mobile = { 'fluter', 'python', 'kotlin', 'javascript'}\n",
        "x = web.issuperset(mobile)\n",
        "print(x)"
      ],
      "metadata": {
        "colab": {
          "base_uri": "https://localhost:8080/"
        },
        "id": "CAi_JV5p6rRg",
        "outputId": "45f51ca8-02ac-4b5d-bb57-837de63b1622"
      },
      "execution_count": 22,
      "outputs": [
        {
          "output_type": "stream",
          "name": "stdout",
          "text": [
            "False\n"
          ]
        }
      ]
    },
    {
      "cell_type": "code",
      "source": [
        "web = {'javascript', 'python'}\n",
        "mobile = { 'fluter', 'python', 'kotlin', 'javascript'}\n",
        "x = web.issubset(mobile)\n",
        "print(x)"
      ],
      "metadata": {
        "colab": {
          "base_uri": "https://localhost:8080/"
        },
        "id": "2yhTODK76QXZ",
        "outputId": "834dbf94-2732-4b3a-e339-adcb5502dc58"
      },
      "execution_count": 21,
      "outputs": [
        {
          "output_type": "stream",
          "name": "stdout",
          "text": [
            "True\n"
          ]
        }
      ]
    },
    {
      "cell_type": "code",
      "source": [
        "x=set()\n",
        "y=set()\n",
        "while True:\n",
        "    a=set(input('insira um dado aqui: ' ))\n",
        "    b=set(input('insira um dado aqui: '))\n",
        "    c=str(input('para sair digite SAIR!')).upper()\n",
        "    if c != 'SAIR':\n",
        "        x=a.union(a)\n",
        "        y=b.union(b)\n",
        "    else:\n",
        "        x=a.union(a)\n",
        "        y=b.union(b)\n",
        "        break\n",
        "print(a,b)\n",
        "while True:\n",
        "    res=int(input(' ' 'digite 1 para fazer interseçao, para fazer o discard de um valor digite 2 digite 3 para saber se ele tem algo em comum digite 4 para saber se o conjunto e super ou sub digite 5 se os itens dos conjuntos sao iguais' ' '))\n",
        "    if res == 1:\n",
        "        z=x.intersection(y)\n",
        "        print(f'a interseçao dos dois conjuntos e {z}')\n",
        "    elif res == 2:\n",
        "        esc=input('escolha o conjunto')\n",
        "        if esc == 'x':\n",
        "            esc = x \n",
        "        else:\n",
        "            esc = y\n",
        "            disc=input('digite o que precisa descartar do conjunto: ')\n",
        "            esc.discard(disc)\n",
        "            print(esc)\n",
        "    elif res == 3:\n",
        "        iSdis = y.isdisjoint(x) \n",
        "        if iSdis == True:\n",
        "            print(f'nao tem nada comum entre os conjuntos x: {x} e y: {y} tem indices em comum.')\n",
        "        else:\n",
        "            print(f'os conjuntos x: {x} e y: {y} tem indices em comum.')\n",
        "    elif res == 4:\n",
        "        inssub = y.issubset(x)\n",
        "        if inssub == True:\n",
        "            print(f'todos os elementos do conjunto x: {x} estao presentes no conjunto y: {y} ')\n",
        "        else:\n",
        "            print(f'os elementos do conjuntos x: {x} sao diferentes dos do conjunto y: {y} ') \n",
        "    elif res == 5:\n",
        "         issup = y.issuperset(x)\n",
        "         if issup == True: \n",
        "             print(f'todos os itens do conjunto x: {x} existem no conjunto y: {y} ')\n",
        "         else: \n",
        "             print(f'os itens do conjunto x: {x} nao existem no conjunto y: {y} ')\n",
        "            \n"
      ],
      "metadata": {
        "colab": {
          "base_uri": "https://localhost:8080/",
          "height": 397
        },
        "id": "zAoCiXmu7Fk_",
        "outputId": "bfada10c-b697-4fcd-e050-a960367ec096"
      },
      "execution_count": 47,
      "outputs": [
        {
          "output_type": "error",
          "ename": "KeyboardInterrupt",
          "evalue": "ignored",
          "traceback": [
            "\u001b[0;31m---------------------------------------------------------------------------\u001b[0m",
            "\u001b[0;31mKeyboardInterrupt\u001b[0m                         Traceback (most recent call last)",
            "\u001b[0;32m<ipython-input-47-0544b1281c8e>\u001b[0m in \u001b[0;36m<cell line: 16>\u001b[0;34m()\u001b[0m\n\u001b[1;32m     14\u001b[0m \u001b[0mprint\u001b[0m\u001b[0;34m(\u001b[0m\u001b[0ma\u001b[0m\u001b[0;34m,\u001b[0m\u001b[0mb\u001b[0m\u001b[0;34m)\u001b[0m\u001b[0;34m\u001b[0m\u001b[0;34m\u001b[0m\u001b[0m\n\u001b[1;32m     15\u001b[0m \u001b[0;32mwhile\u001b[0m \u001b[0;32mTrue\u001b[0m\u001b[0;34m:\u001b[0m\u001b[0;34m\u001b[0m\u001b[0;34m\u001b[0m\u001b[0m\n\u001b[0;32m---> 16\u001b[0;31m     \u001b[0mres\u001b[0m\u001b[0;34m=\u001b[0m\u001b[0mint\u001b[0m\u001b[0;34m(\u001b[0m\u001b[0minput\u001b[0m\u001b[0;34m(\u001b[0m\u001b[0;34m' '\u001b[0m \u001b[0;34m'digite 1 para fazer interseçao, para fazer o discard de um valor digite 2 digite 3 para saber se ele tem algo em comum digite 4 para saber se o conjunto e super ou sub digite 5 se os itens dos conjuntos sao iguais'\u001b[0m \u001b[0;34m' '\u001b[0m\u001b[0;34m)\u001b[0m\u001b[0;34m)\u001b[0m\u001b[0;34m\u001b[0m\u001b[0;34m\u001b[0m\u001b[0m\n\u001b[0m\u001b[1;32m     17\u001b[0m     \u001b[0;32mif\u001b[0m \u001b[0mres\u001b[0m \u001b[0;34m==\u001b[0m \u001b[0;36m1\u001b[0m\u001b[0;34m:\u001b[0m\u001b[0;34m\u001b[0m\u001b[0;34m\u001b[0m\u001b[0m\n\u001b[1;32m     18\u001b[0m         \u001b[0mz\u001b[0m\u001b[0;34m=\u001b[0m\u001b[0mx\u001b[0m\u001b[0;34m.\u001b[0m\u001b[0mintersection\u001b[0m\u001b[0;34m(\u001b[0m\u001b[0my\u001b[0m\u001b[0;34m)\u001b[0m\u001b[0;34m\u001b[0m\u001b[0;34m\u001b[0m\u001b[0m\n",
            "\u001b[0;32m/usr/local/lib/python3.9/dist-packages/ipykernel/kernelbase.py\u001b[0m in \u001b[0;36mraw_input\u001b[0;34m(self, prompt)\u001b[0m\n\u001b[1;32m    849\u001b[0m                 \u001b[0;34m\"raw_input was called, but this frontend does not support input requests.\"\u001b[0m\u001b[0;34m\u001b[0m\u001b[0;34m\u001b[0m\u001b[0m\n\u001b[1;32m    850\u001b[0m             )\n\u001b[0;32m--> 851\u001b[0;31m         return self._input_request(str(prompt),\n\u001b[0m\u001b[1;32m    852\u001b[0m             \u001b[0mself\u001b[0m\u001b[0;34m.\u001b[0m\u001b[0m_parent_ident\u001b[0m\u001b[0;34m,\u001b[0m\u001b[0;34m\u001b[0m\u001b[0;34m\u001b[0m\u001b[0m\n\u001b[1;32m    853\u001b[0m             \u001b[0mself\u001b[0m\u001b[0;34m.\u001b[0m\u001b[0m_parent_header\u001b[0m\u001b[0;34m,\u001b[0m\u001b[0;34m\u001b[0m\u001b[0;34m\u001b[0m\u001b[0m\n",
            "\u001b[0;32m/usr/local/lib/python3.9/dist-packages/ipykernel/kernelbase.py\u001b[0m in \u001b[0;36m_input_request\u001b[0;34m(self, prompt, ident, parent, password)\u001b[0m\n\u001b[1;32m    893\u001b[0m             \u001b[0;32mexcept\u001b[0m \u001b[0mKeyboardInterrupt\u001b[0m\u001b[0;34m:\u001b[0m\u001b[0;34m\u001b[0m\u001b[0;34m\u001b[0m\u001b[0m\n\u001b[1;32m    894\u001b[0m                 \u001b[0;31m# re-raise KeyboardInterrupt, to truncate traceback\u001b[0m\u001b[0;34m\u001b[0m\u001b[0;34m\u001b[0m\u001b[0m\n\u001b[0;32m--> 895\u001b[0;31m                 \u001b[0;32mraise\u001b[0m \u001b[0mKeyboardInterrupt\u001b[0m\u001b[0;34m(\u001b[0m\u001b[0;34m\"Interrupted by user\"\u001b[0m\u001b[0;34m)\u001b[0m \u001b[0;32mfrom\u001b[0m \u001b[0;32mNone\u001b[0m\u001b[0;34m\u001b[0m\u001b[0;34m\u001b[0m\u001b[0m\n\u001b[0m\u001b[1;32m    896\u001b[0m             \u001b[0;32mexcept\u001b[0m \u001b[0mException\u001b[0m \u001b[0;32mas\u001b[0m \u001b[0me\u001b[0m\u001b[0;34m:\u001b[0m\u001b[0;34m\u001b[0m\u001b[0;34m\u001b[0m\u001b[0m\n\u001b[1;32m    897\u001b[0m                 \u001b[0mself\u001b[0m\u001b[0;34m.\u001b[0m\u001b[0mlog\u001b[0m\u001b[0;34m.\u001b[0m\u001b[0mwarning\u001b[0m\u001b[0;34m(\u001b[0m\u001b[0;34m\"Invalid Message:\"\u001b[0m\u001b[0;34m,\u001b[0m \u001b[0mexc_info\u001b[0m\u001b[0;34m=\u001b[0m\u001b[0;32mTrue\u001b[0m\u001b[0;34m)\u001b[0m\u001b[0;34m\u001b[0m\u001b[0;34m\u001b[0m\u001b[0m\n",
            "\u001b[0;31mKeyboardInterrupt\u001b[0m: Interrupted by user"
          ]
        }
      ]
    },
    {
      "cell_type": "code",
      "source": [
        "nome = {'banana', 'maca', 'uva'}\n",
        "a=['banana']\n",
        "a"
      ],
      "metadata": {
        "colab": {
          "base_uri": "https://localhost:8080/"
        },
        "id": "z_OTd-YaZuuk",
        "outputId": "b4fbb291-3750-47e8-f4fd-2b32bc4bf279"
      },
      "execution_count": 51,
      "outputs": [
        {
          "output_type": "execute_result",
          "data": {
            "text/plain": [
              "['banana']"
            ]
          },
          "metadata": {},
          "execution_count": 51
        }
      ]
    },
    {
      "cell_type": "code",
      "source": [
        "dados_funcionario = {'nome': 'Joao', 'idade': 32, 'altura': 1.65, 'ativo': True, 'dependentes': {'filhos': 5, 'conjuge': True}} \n",
        "dados_funcionario['salario']=1500.00\n",
        "dados_funcionario['dependentes']['filhos']*100.00 + dados_funcionario['dependentes']['conjuge']*100+dados_funcionario['salario']\n",
        "dados_funcionario.pop('altura')\n",
        "dados_funcionario.keys()\n",
        "dados_funcionario.values()\n",
        "dados_funcionario.items()\n",
        "dados_salvos = dados_funcionario.copy()\n",
        "dados_salvos.clear()\n",
        "print(dados_salvos)\n",
        "dados_funcionario.get('endereço')"
      ],
      "metadata": {
        "colab": {
          "base_uri": "https://localhost:8080/"
        },
        "id": "GUZzbGt2d1_R",
        "outputId": "6d2798b7-c274-4331-c6ee-77d69e1a2e94"
      },
      "execution_count": 69,
      "outputs": [
        {
          "output_type": "stream",
          "name": "stdout",
          "text": [
            "{}\n"
          ]
        }
      ]
    },
    {
      "cell_type": "code",
      "source": [
        "lc = ['nome', 'idade', 'endereço']\n",
        "lv = ['bruna', 28, 'rua das rosas']\n",
        "d = dict(zip(lc,lv))\n",
        "print(d)\n"
      ],
      "metadata": {
        "colab": {
          "base_uri": "https://localhost:8080/"
        },
        "id": "z9Qewh5GpawH",
        "outputId": "2a0daa12-78a0-454d-eafb-acf3f729c117"
      },
      "execution_count": 71,
      "outputs": [
        {
          "output_type": "stream",
          "name": "stdout",
          "text": [
            "{'nome': 'bruna', 'idade': 28, 'endereço': 'rua das rosas'}\n"
          ]
        }
      ]
    },
    {
      "cell_type": "code",
      "source": [
        "a={1,2,3,4}\n",
        "b={1,4,5,6}\n",
        "c=a.union(b)\n",
        "c"
      ],
      "metadata": {
        "colab": {
          "base_uri": "https://localhost:8080/"
        },
        "id": "8LCopfx4Abxa",
        "outputId": "2fe3c24a-fa92-4895-d5d3-4c9d73567d31"
      },
      "execution_count": 31,
      "outputs": [
        {
          "output_type": "execute_result",
          "data": {
            "text/plain": [
              "{1, 2, 3, 4, 5, 6}"
            ]
          },
          "metadata": {},
          "execution_count": 31
        }
      ]
    }
  ]
}